{
  "nbformat": 4,
  "nbformat_minor": 0,
  "metadata": {
    "colab": {
      "provenance": []
    },
    "kernelspec": {
      "name": "python3",
      "display_name": "Python 3"
    },
    "language_info": {
      "name": "python"
    }
  },
  "cells": [
    {
      "cell_type": "markdown",
      "source": [
        "# Stat1013 Project Part 1"
      ],
      "metadata": {
        "id": "iwm2dVgaYjJW"
      }
    },
    {
      "cell_type": "markdown",
      "source": [
        "## Dataset background\n",
        "**Description**\n",
        "\n",
        "Data I have collected from The Chinese University of Hong Kong's and Zhejiang Univercity's freshman students, which is about number of courses they have taken this semester.\n",
        "\n",
        "**Github:** [https://github.com/Kitteniaa/STAT1013-Project-LYQ/blob/main/STAT1013Project1_LYQ.csv](https://github.com/Kitteniaa/STAT1013-Project-LYQ/blob/main/STAT1013Project1_LYQ.csv)\n",
        "\n",
        "**sample size:** 60\n",
        "\n",
        "**Feature documentation:**\n",
        "\n",
        "Feature   | Class        | Shape | Dtype   | \n",
        ":-------- | :----------- | :---- | :------ | \n",
        "School  |  Tensor|  | Object\n",
        "Number of courses taken| Tensor  | |int64"
      ],
      "metadata": {
        "id": "yGuQlEMofqVI"
      }
    },
    {
      "cell_type": "markdown",
      "source": [
        "## Hypothesis\n",
        "\n",
        "- Tell us what your idea is and why you have chosen to pursue this idea. \n",
        "  - I'm interested in \"*Do ZJU students take more courses than CUHK students per semester?*\"\n",
        "\n",
        "- What two groups you are comparing:\n",
        "  - **G1**: Average number of courses taken by cuhk students ; **G2**: Average number of courses taken by zju students\n",
        "\n",
        "- What you will be measuring (i.e., what your response variable will be) \n",
        "  - `Number of courses taken`\n",
        "\n",
        "- Is your response variable quantitative rather than categorical? \n",
        "  - Quantitative.\n",
        "\n",
        "- Make a prediction about what kind of difference you expect to see between your samples and WHY. \n",
        "  - I had expect that **G1** > **G2** since [Chinese Mainland Students perceive heavier workload than other students](https://eric.ed.gov/?id=EJ1154552).\n",
        "- Talk about how you will gather your data\n",
        "  - I reserched it by myself and uploaded the data to github. Github link: [https://github.com/Kitteniaa/STAT1013-Project-LYQ/blob/main/STAT1013Project1_LYQ.csv](https://github.com/Kitteniaa/STAT1013-Project-LYQ/blob/main/STAT1013Project1_LYQ.csv)\n",
        "\n",
        "- If you had unlimited resources (time, money, staff, etc.) how would you collect your data? \n",
        "  - (i) I'll sample more comprehensively about students from different grade and major to get a better random sampling subset of these two populations.\n",
        "  - (ii) Attempt to collect more data for each population. \n"
      ],
      "metadata": {
        "id": "4nqIxuzKlFQT"
      }
    },
    {
      "cell_type": "markdown",
      "source": [
        "## Prepare my dataset"
      ],
      "metadata": {
        "id": "CgEtnO20tFbJ"
      }
    },
    {
      "cell_type": "code",
      "execution_count": 10,
      "metadata": {
        "colab": {
          "base_uri": "https://localhost:8080/",
          "height": 206
        },
        "id": "lL-PhL04R2tu",
        "outputId": "acd186db-2ee0-49d7-cf77-4e2b1667449d"
      },
      "outputs": [
        {
          "output_type": "execute_result",
          "data": {
            "text/plain": [
              "  School  Number of courses taken\n",
              "0   CUHK                        7\n",
              "1   CUHK                        8\n",
              "2   CUHK                        6\n",
              "3   CUHK                        6\n",
              "4   CUHK                        7"
            ],
            "text/html": [
              "\n",
              "  <div id=\"df-43816c0c-f596-46f2-9252-1d5247b9a883\">\n",
              "    <div class=\"colab-df-container\">\n",
              "      <div>\n",
              "<style scoped>\n",
              "    .dataframe tbody tr th:only-of-type {\n",
              "        vertical-align: middle;\n",
              "    }\n",
              "\n",
              "    .dataframe tbody tr th {\n",
              "        vertical-align: top;\n",
              "    }\n",
              "\n",
              "    .dataframe thead th {\n",
              "        text-align: right;\n",
              "    }\n",
              "</style>\n",
              "<table border=\"1\" class=\"dataframe\">\n",
              "  <thead>\n",
              "    <tr style=\"text-align: right;\">\n",
              "      <th></th>\n",
              "      <th>School</th>\n",
              "      <th>Number of courses taken</th>\n",
              "    </tr>\n",
              "  </thead>\n",
              "  <tbody>\n",
              "    <tr>\n",
              "      <th>0</th>\n",
              "      <td>CUHK</td>\n",
              "      <td>7</td>\n",
              "    </tr>\n",
              "    <tr>\n",
              "      <th>1</th>\n",
              "      <td>CUHK</td>\n",
              "      <td>8</td>\n",
              "    </tr>\n",
              "    <tr>\n",
              "      <th>2</th>\n",
              "      <td>CUHK</td>\n",
              "      <td>6</td>\n",
              "    </tr>\n",
              "    <tr>\n",
              "      <th>3</th>\n",
              "      <td>CUHK</td>\n",
              "      <td>6</td>\n",
              "    </tr>\n",
              "    <tr>\n",
              "      <th>4</th>\n",
              "      <td>CUHK</td>\n",
              "      <td>7</td>\n",
              "    </tr>\n",
              "  </tbody>\n",
              "</table>\n",
              "</div>\n",
              "      <button class=\"colab-df-convert\" onclick=\"convertToInteractive('df-43816c0c-f596-46f2-9252-1d5247b9a883')\"\n",
              "              title=\"Convert this dataframe to an interactive table.\"\n",
              "              style=\"display:none;\">\n",
              "        \n",
              "  <svg xmlns=\"http://www.w3.org/2000/svg\" height=\"24px\"viewBox=\"0 0 24 24\"\n",
              "       width=\"24px\">\n",
              "    <path d=\"M0 0h24v24H0V0z\" fill=\"none\"/>\n",
              "    <path d=\"M18.56 5.44l.94 2.06.94-2.06 2.06-.94-2.06-.94-.94-2.06-.94 2.06-2.06.94zm-11 1L8.5 8.5l.94-2.06 2.06-.94-2.06-.94L8.5 2.5l-.94 2.06-2.06.94zm10 10l.94 2.06.94-2.06 2.06-.94-2.06-.94-.94-2.06-.94 2.06-2.06.94z\"/><path d=\"M17.41 7.96l-1.37-1.37c-.4-.4-.92-.59-1.43-.59-.52 0-1.04.2-1.43.59L10.3 9.45l-7.72 7.72c-.78.78-.78 2.05 0 2.83L4 21.41c.39.39.9.59 1.41.59.51 0 1.02-.2 1.41-.59l7.78-7.78 2.81-2.81c.8-.78.8-2.07 0-2.86zM5.41 20L4 18.59l7.72-7.72 1.47 1.35L5.41 20z\"/>\n",
              "  </svg>\n",
              "      </button>\n",
              "      \n",
              "  <style>\n",
              "    .colab-df-container {\n",
              "      display:flex;\n",
              "      flex-wrap:wrap;\n",
              "      gap: 12px;\n",
              "    }\n",
              "\n",
              "    .colab-df-convert {\n",
              "      background-color: #E8F0FE;\n",
              "      border: none;\n",
              "      border-radius: 50%;\n",
              "      cursor: pointer;\n",
              "      display: none;\n",
              "      fill: #1967D2;\n",
              "      height: 32px;\n",
              "      padding: 0 0 0 0;\n",
              "      width: 32px;\n",
              "    }\n",
              "\n",
              "    .colab-df-convert:hover {\n",
              "      background-color: #E2EBFA;\n",
              "      box-shadow: 0px 1px 2px rgba(60, 64, 67, 0.3), 0px 1px 3px 1px rgba(60, 64, 67, 0.15);\n",
              "      fill: #174EA6;\n",
              "    }\n",
              "\n",
              "    [theme=dark] .colab-df-convert {\n",
              "      background-color: #3B4455;\n",
              "      fill: #D2E3FC;\n",
              "    }\n",
              "\n",
              "    [theme=dark] .colab-df-convert:hover {\n",
              "      background-color: #434B5C;\n",
              "      box-shadow: 0px 1px 3px 1px rgba(0, 0, 0, 0.15);\n",
              "      filter: drop-shadow(0px 1px 2px rgba(0, 0, 0, 0.3));\n",
              "      fill: #FFFFFF;\n",
              "    }\n",
              "  </style>\n",
              "\n",
              "      <script>\n",
              "        const buttonEl =\n",
              "          document.querySelector('#df-43816c0c-f596-46f2-9252-1d5247b9a883 button.colab-df-convert');\n",
              "        buttonEl.style.display =\n",
              "          google.colab.kernel.accessAllowed ? 'block' : 'none';\n",
              "\n",
              "        async function convertToInteractive(key) {\n",
              "          const element = document.querySelector('#df-43816c0c-f596-46f2-9252-1d5247b9a883');\n",
              "          const dataTable =\n",
              "            await google.colab.kernel.invokeFunction('convertToInteractive',\n",
              "                                                     [key], {});\n",
              "          if (!dataTable) return;\n",
              "\n",
              "          const docLinkHtml = 'Like what you see? Visit the ' +\n",
              "            '<a target=\"_blank\" href=https://colab.research.google.com/notebooks/data_table.ipynb>data table notebook</a>'\n",
              "            + ' to learn more about interactive tables.';\n",
              "          element.innerHTML = '';\n",
              "          dataTable['output_type'] = 'display_data';\n",
              "          await google.colab.output.renderOutput(dataTable, element);\n",
              "          const docLink = document.createElement('div');\n",
              "          docLink.innerHTML = docLinkHtml;\n",
              "          element.appendChild(docLink);\n",
              "        }\n",
              "      </script>\n",
              "    </div>\n",
              "  </div>\n",
              "  "
            ]
          },
          "metadata": {},
          "execution_count": 10
        }
      ],
      "source": [
        "import pandas as pd\n",
        "df = pd.read_csv('https://raw.githubusercontent.com/Kitteniaa/STAT1013-Project-LYQ/main/STAT1013Project1_LYQ.csv')\n",
        "df.head(5)"
      ]
    },
    {
      "cell_type": "markdown",
      "source": [
        "- Tell us what groups you want to compare in the dataset\n",
        "  - **G1** (Number of courses taken | school = CUHK) vs. **G2** (Number of courses taken | school = ZJU)"
      ],
      "metadata": {
        "id": "33yccwJ8vPUn"
      }
    },
    {
      "cell_type": "markdown",
      "source": [
        "- Print first 5 records of each group, respectively. "
      ],
      "metadata": {
        "id": "m_I2SmqUvlts"
      }
    },
    {
      "cell_type": "code",
      "source": [
        "## First 5 records of G1 (cuhk)\n",
        "(df[df['School'] == 'CUHK']['Number of courses taken']).head(5)"
      ],
      "metadata": {
        "colab": {
          "base_uri": "https://localhost:8080/"
        },
        "id": "6pB9PE4tvrPX",
        "outputId": "77dec907-6d51-4fd8-e612-408e3803f00a"
      },
      "execution_count": 14,
      "outputs": [
        {
          "output_type": "execute_result",
          "data": {
            "text/plain": [
              "0    7\n",
              "1    8\n",
              "2    6\n",
              "3    6\n",
              "4    7\n",
              "Name: Number of courses taken, dtype: int64"
            ]
          },
          "metadata": {},
          "execution_count": 14
        }
      ]
    },
    {
      "cell_type": "code",
      "source": [
        "## First 5 records of G2 (zju)\n",
        "(df[df['School'] == 'ZJU']['Number of courses taken']).head(5)"
      ],
      "metadata": {
        "colab": {
          "base_uri": "https://localhost:8080/"
        },
        "id": "W8JzMT7fwH9W",
        "outputId": "a45b52f1-71dc-4740-b205-83a80d5d371b"
      },
      "execution_count": 13,
      "outputs": [
        {
          "output_type": "execute_result",
          "data": {
            "text/plain": [
              "30    13\n",
              "31    15\n",
              "32    12\n",
              "33    13\n",
              "34    13\n",
              "Name: Number of courses taken, dtype: int64"
            ]
          },
          "metadata": {},
          "execution_count": 13
        }
      ]
    },
    {
      "cell_type": "code",
      "source": [
        "## Any other data description and visualization you want to add.\n",
        "df.info()"
      ],
      "metadata": {
        "colab": {
          "base_uri": "https://localhost:8080/"
        },
        "id": "TltneQRKwb2E",
        "outputId": "16c2011d-7a8e-42e1-aae7-5c342a26e071"
      },
      "execution_count": 22,
      "outputs": [
        {
          "output_type": "stream",
          "name": "stdout",
          "text": [
            "<class 'pandas.core.frame.DataFrame'>\n",
            "RangeIndex: 60 entries, 0 to 59\n",
            "Data columns (total 2 columns):\n",
            " #   Column                   Non-Null Count  Dtype \n",
            "---  ------                   --------------  ----- \n",
            " 0   School                   60 non-null     object\n",
            " 1   Number of courses taken  60 non-null     int64 \n",
            "dtypes: int64(1), object(1)\n",
            "memory usage: 1.1+ KB\n"
          ]
        }
      ]
    },
    {
      "cell_type": "code",
      "source": [
        "import seaborn as sns\n",
        "import matplotlib.pyplot as plt\n",
        "\n",
        "sns.stripplot(x=df['Number of courses taken'])\n",
        "plt.show()"
      ],
      "metadata": {
        "colab": {
          "base_uri": "https://localhost:8080/",
          "height": 279
        },
        "id": "o5HFCIKmzOWn",
        "outputId": "cf63e334-02d6-4b86-b33c-ea1d4298226b"
      },
      "execution_count": 33,
      "outputs": [
        {
          "output_type": "display_data",
          "data": {
            "text/plain": [
              "<Figure size 432x288 with 1 Axes>"
            ],
            "image/png": "[encoded data removed]"
          },
          "metadata": {
            "needs_background": "light"
          }
        }
      ]
    },
    {
      "cell_type": "code",
      "source": [
        "sns.violinplot(data=df, x=\"School\", y=\"Number of courses taken\")\n",
        "plt.show()"
      ],
      "metadata": {
        "colab": {
          "base_uri": "https://localhost:8080/",
          "height": 279
        },
        "id": "U6OR6zfO15DG",
        "outputId": "41c24b13-93e8-4e13-d26a-3acbe1a17264"
      },
      "execution_count": 34,
      "outputs": [
        {
          "output_type": "display_data",
          "data": {
            "text/plain": [
              "<Figure size 432x288 with 1 Axes>"
            ],
            "image/png": "[encoded data removed]"
          },
          "metadata": {
            "needs_background": "light"
          }
        }
      ]
    }
  ]
}